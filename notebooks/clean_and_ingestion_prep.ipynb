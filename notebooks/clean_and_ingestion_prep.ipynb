{
 "cells": [
  {
   "cell_type": "code",
   "execution_count": null,
   "id": "c9b35e64-903f-47cc-9a00-cb9728732a86",
   "metadata": {},
   "outputs": [],
   "source": [
    "import pandas as pd\n",
    "import itertools"
   ]
  },
  {
   "cell_type": "code",
   "execution_count": null,
   "id": "98665308-0259-4738-bda0-74172ba652c9",
   "metadata": {},
   "outputs": [],
   "source": [
    "df = pd.read_csv('../data/netflix_titles_raw.csv') \n",
    "df.date_added = pd.to_datetime(df.date_added)\n",
    "df.listed_in = df.listed_in.str.split(',')\n",
    "df.show_id = df.show_id.str[1:]\n",
    "df"
   ]
  },
  {
   "cell_type": "markdown",
   "id": "e1097988-5739-4dd3-a21f-33e0141615a9",
   "metadata": {},
   "source": [
    "# Get all unique person entities"
   ]
  },
  {
   "cell_type": "code",
   "execution_count": null,
   "id": "60d5e4e6-4197-4974-8b79-6f1d5dd3da18",
   "metadata": {},
   "outputs": [],
   "source": [
    "cast_members = list(df.cast.str.split(',').dropna())\n",
    "directors = list(df.director.str.split(',').dropna())\n",
    "persons = pd.DataFrame(set(person.strip() for person in itertools.chain(*cast_members + directors)),\n",
    "                      columns=['person']\n",
    "                     )\n",
    "persons['person_id'] = persons.index + 1\n",
    "\n",
    "persons"
   ]
  },
  {
   "cell_type": "markdown",
   "id": "5e22523b-1a0e-4754-91c8-fd17fc384729",
   "metadata": {},
   "source": [
    "# Intersection table for cast and show"
   ]
  },
  {
   "cell_type": "code",
   "execution_count": null,
   "id": "2267f02d-cb56-4a6d-920b-c3a104efc892",
   "metadata": {},
   "outputs": [],
   "source": [
    "def show_cast_intersection_record_creation(record):\n",
    "    return [(record.show_id, person.strip()) for person in record.cast.split(',')]\n",
    "\n",
    "show_cast_intersection_records = []\n",
    "for record in df[df.cast.notna()].itertuples():\n",
    "    if record.cast:\n",
    "        show_cast_intersection_records.extend(show_cast_intersection_record_creation(record))\n",
    "    \n",
    "show_cast_intersection_df = pd.DataFrame(\n",
    "    show_cast_intersection_records, \n",
    "    columns=['show_id', 'person']\n",
    ")\n",
    "show_cast_intersection_df = show_cast_intersection_df.merge(persons)\n",
    "\n",
    "del show_cast_intersection_df['person']\n",
    "show_cast_intersection_df\n"
   ]
  },
  {
   "cell_type": "markdown",
   "id": "bcf48169-6443-4928-a4b8-6dc0239d6e5c",
   "metadata": {},
   "source": [
    "# Create a director_id column in the raw dataset"
   ]
  },
  {
   "cell_type": "code",
   "execution_count": null,
   "id": "a6238942-dff9-4000-ae5a-0668ab084e5a",
   "metadata": {},
   "outputs": [],
   "source": [
    "df = df.merge(persons, left_on='director', right_on='person', how='left')\n",
    "df['director_id'] = df.person_id.astype('Int64')\n",
    "df"
   ]
  },
  {
   "cell_type": "markdown",
   "id": "caa8799a-6510-4f5a-99da-36a761b73a94",
   "metadata": {},
   "source": [
    "# Export person and show/cast intersection tables"
   ]
  },
  {
   "cell_type": "code",
   "execution_count": null,
   "id": "73e7dbaf-8e9f-49f1-a8e3-7b0f6b638979",
   "metadata": {},
   "outputs": [],
   "source": [
    "persons.to_csv('../data/persons.csv', index=False)\n",
    "show_cast_intersection_df.to_csv('../data/show_cast_intersection.csv', index=False)"
   ]
  },
  {
   "cell_type": "markdown",
   "id": "97ccf863-d118-4560-ad0e-35e418e9ae59",
   "metadata": {},
   "source": [
    "# Create a table of unique categories"
   ]
  },
  {
   "cell_type": "code",
   "execution_count": null,
   "id": "30c2ddf5-f58f-41a4-94b3-0ea28da829bd",
   "metadata": {
    "scrolled": true,
    "tags": []
   },
   "outputs": [],
   "source": [
    "categories = pd.DataFrame(set(category.strip() for category in itertools.chain(*list(df.listed_in))),\n",
    "                          columns=['category']\n",
    "                         )\n",
    "categories['category_id'] = categories.index + 1\n",
    "\n",
    "categories"
   ]
  },
  {
   "cell_type": "markdown",
   "id": "77ddbfa6-1837-45da-92ed-3e634372453d",
   "metadata": {},
   "source": [
    "# Intersection table between category and show"
   ]
  },
  {
   "cell_type": "code",
   "execution_count": null,
   "id": "ce229f44-c437-4ef7-8e9c-952be114330d",
   "metadata": {
    "scrolled": true,
    "tags": []
   },
   "outputs": [],
   "source": [
    "def show_category_intersection_record_creation(record):\n",
    "    return [(record.show_id, category.strip()) for category in record.listed_in]\n",
    "\n",
    "show_category_intersection_records = []\n",
    "for record in df.itertuples():\n",
    "    show_category_intersection_records.extend(show_category_intersection_record_creation(record))\n",
    "    \n",
    "show_category_intersection_df = pd.DataFrame(\n",
    "    show_category_intersection_records, \n",
    "    columns=['show_id', 'category']\n",
    ")\n",
    "\n",
    "show_category_intersection_df = show_category_intersection_df.merge(categories)\n",
    "del show_category_intersection_df['category']\n",
    "show_category_intersection_df"
   ]
  },
  {
   "cell_type": "markdown",
   "id": "4e6cb8be-67a7-4b4a-9f48-5cc185283ac7",
   "metadata": {},
   "source": [
    "# Export categories and show/categories intersection tables"
   ]
  },
  {
   "cell_type": "code",
   "execution_count": null,
   "id": "7a9e8a18-93bd-49e6-b3eb-4affaefbb63c",
   "metadata": {},
   "outputs": [],
   "source": [
    "show_category_intersection_df.to_csv('../data/show_category_intersection.csv', index=False)\n",
    "categories.to_csv('../data/categories.csv', index=False)"
   ]
  },
  {
   "cell_type": "markdown",
   "id": "49520a9c-5e5d-4b08-9425-2403893ac80c",
   "metadata": {},
   "source": [
    "# Finally, create the show table"
   ]
  },
  {
   "cell_type": "code",
   "execution_count": null,
   "id": "41d95799-bb69-4bdf-991c-bfc1b5e7f350",
   "metadata": {},
   "outputs": [],
   "source": [
    "show_df = df[['show_id','type', 'title', 'director_id', 'country', 'date_added', 'release_year', 'rating', 'duration', 'description']]\n",
    "show_df"
   ]
  },
  {
   "cell_type": "markdown",
   "id": "f7f73ace-d29c-4de6-8ede-b63c2c9c23fd",
   "metadata": {},
   "source": [
    "# Export it"
   ]
  },
  {
   "cell_type": "code",
   "execution_count": null,
   "id": "83175654-2614-4f89-82ed-61d853fb843b",
   "metadata": {},
   "outputs": [],
   "source": [
    "show_df.to_csv('../data/shows.csv', index=False)"
   ]
  },
  {
   "cell_type": "code",
   "execution_count": null,
   "id": "1b925070-f7c9-4dc5-bd35-604377b672c3",
   "metadata": {},
   "outputs": [],
   "source": []
  }
 ],
 "metadata": {
  "kernelspec": {
   "display_name": "flexit-kernel",
   "language": "python",
   "name": "flexit-kernel"
  },
  "language_info": {
   "codemirror_mode": {
    "name": "ipython",
    "version": 3
   },
   "file_extension": ".py",
   "mimetype": "text/x-python",
   "name": "python",
   "nbconvert_exporter": "python",
   "pygments_lexer": "ipython3",
   "version": "3.10.2"
  }
 },
 "nbformat": 4,
 "nbformat_minor": 5
}
